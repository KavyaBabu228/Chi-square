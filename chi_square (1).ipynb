{
 "cells": [
  {
   "cell_type": "code",
   "execution_count": 7,
   "id": "1d70b7a8-02bb-4e8b-994f-85aed13feaaf",
   "metadata": {},
   "outputs": [
    {
     "name": "stdout",
     "output_type": "stream",
     "text": [
      "Chi-Square Statistic: 174.2857\n",
      "Degrees of Freedom: 4\n",
      "Critical Value: 9.4877\n",
      "Reject the null hypothesis.\n"
     ]
    }
   ],
   "source": [
    "import numpy as np\n",
    "import pandas as pd\n",
    "from scipy.stats import chi2\n",
    "\n",
    "# Data\n",
    "data = {\n",
    "    'Satisfaction': ['Very Satisfied', 'Satisfied', 'Neutral', 'Unsatisfied', 'Very Unsatisfied'],\n",
    "    'Smart Thermostat': [50, 80, 60, 30, 20],\n",
    "    'Smart Light': [70, 100, 90, 50, 50],\n",
    "}\n",
    "\n",
    "# Creating a DataFrame\n",
    "df = pd.DataFrame(data)\n",
    "df.set_index('Satisfaction', inplace=True)\n",
    "\n",
    "# Total counts\n",
    "df.loc['Total'] = df.sum()\n",
    "\n",
    "total_customers = df.loc['Total', 'Smart Thermostat'] + df.loc['Total', 'Smart Light']\n",
    "expected = np.zeros((5, 2))\n",
    "\n",
    "for i in range(5):\n",
    "    expected[i, 0] = (df.loc['Total', 'Smart Thermostat'] * df.iloc[i, 1] / total_customers)\n",
    "    expected[i, 1] = (df.loc['Total', 'Smart Light'] * df.iloc[i, 1] / total_customers)\n",
    "\n",
    "# Calculate Chi-Square Statistic\n",
    "observed = df.iloc[:-1, :2].values  # Exclude total row\n",
    "chi_square_stat = np.sum((observed - expected) ** 2 / expected)\n",
    "\n",
    "# Degrees of Freedom\n",
    "df_rows = len(data['Satisfaction'])\n",
    "df_columns = len(data) - 1  # Excluding the Satisfaction column\n",
    "degrees_of_freedom = (df_rows - 1) * (df_columns - 1)\n",
    "\n",
    "# Critical value\n",
    "alpha = 0.05\n",
    "critical_value = chi2.ppf(1 - alpha, degrees_of_freedom)\n",
    "\n",
    "# Output results\n",
    "print(f\"Chi-Square Statistic: {chi_square_stat:.4f}\")\n",
    "print(f\"Degrees of Freedom: {degrees_of_freedom}\")\n",
    "print(f\"Critical Value: {critical_value:.4f}\")\n",
    "\n",
    "# Decision\n",
    "if chi_square_stat > critical_value:\n",
    "    decision = \"Reject the null hypothesis.\"\n",
    "else:\n",
    "    decision = \"Fail to reject the null hypothesis.\"\n",
    "\n",
    "print(decision)\n",
    "\n"
   ]
  },
  {
   "cell_type": "code",
   "execution_count": null,
   "id": "d82a6cbf-ae10-4cd8-aff0-d721a3d6b6cf",
   "metadata": {},
   "outputs": [],
   "source": []
  }
 ],
 "metadata": {
  "kernelspec": {
   "display_name": "Python 3 (ipykernel)",
   "language": "python",
   "name": "python3"
  },
  "language_info": {
   "codemirror_mode": {
    "name": "ipython",
    "version": 3
   },
   "file_extension": ".py",
   "mimetype": "text/x-python",
   "name": "python",
   "nbconvert_exporter": "python",
   "pygments_lexer": "ipython3",
   "version": "3.12.4"
  }
 },
 "nbformat": 4,
 "nbformat_minor": 5
}
